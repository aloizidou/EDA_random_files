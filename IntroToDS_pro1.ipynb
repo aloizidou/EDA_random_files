{
 "cells": [
  {
   "cell_type": "code",
   "execution_count": 36,
   "id": "15be0c97",
   "metadata": {},
   "outputs": [
    {
     "name": "stderr",
     "output_type": "stream",
     "text": [
      "/var/folders/jy/t41nttz13wl41xmsj7qr7rhm0000gn/T/ipykernel_49258/138001982.py:3: DtypeWarning: Columns (30,31,32,33,34,35,36,37,38,39,40,41,42) have mixed types. Specify dtype option on import or set low_memory=False.\n",
      "  df = pd.read_csv(\"US_Accidents_Dec20_Updated.csv\")\n"
     ]
    },
    {
     "data": {
      "text/html": [
       "<div>\n",
       "<style scoped>\n",
       "    .dataframe tbody tr th:only-of-type {\n",
       "        vertical-align: middle;\n",
       "    }\n",
       "\n",
       "    .dataframe tbody tr th {\n",
       "        vertical-align: top;\n",
       "    }\n",
       "\n",
       "    .dataframe thead th {\n",
       "        text-align: right;\n",
       "    }\n",
       "</style>\n",
       "<table border=\"1\" class=\"dataframe\">\n",
       "  <thead>\n",
       "    <tr style=\"text-align: right;\">\n",
       "      <th></th>\n",
       "      <th>ID</th>\n",
       "      <th>Severity</th>\n",
       "      <th>Start_Time</th>\n",
       "      <th>End_Time</th>\n",
       "      <th>Start_Lat</th>\n",
       "      <th>Start_Lng</th>\n",
       "      <th>End_Lat</th>\n",
       "      <th>End_Lng</th>\n",
       "      <th>Distance(mi)</th>\n",
       "      <th>Description</th>\n",
       "      <th>...</th>\n",
       "      <th>Roundabout</th>\n",
       "      <th>Station</th>\n",
       "      <th>Stop</th>\n",
       "      <th>Traffic_Calming</th>\n",
       "      <th>Traffic_Signal</th>\n",
       "      <th>Turning_Loop</th>\n",
       "      <th>Sunrise_Sunset</th>\n",
       "      <th>Civil_Twilight</th>\n",
       "      <th>Nautical_Twilight</th>\n",
       "      <th>Astronomical_Twilight</th>\n",
       "    </tr>\n",
       "  </thead>\n",
       "  <tbody>\n",
       "    <tr>\n",
       "      <th>0</th>\n",
       "      <td>A-1</td>\n",
       "      <td>2</td>\n",
       "      <td>2019-05-21 08:29:55</td>\n",
       "      <td>2019-05-21 09:29:40</td>\n",
       "      <td>34.808868</td>\n",
       "      <td>-82.269157</td>\n",
       "      <td>34.808868</td>\n",
       "      <td>-82.269157</td>\n",
       "      <td>0.0</td>\n",
       "      <td>Accident on Tanner Rd at Pennbrooke Ln.</td>\n",
       "      <td>...</td>\n",
       "      <td>False</td>\n",
       "      <td>False</td>\n",
       "      <td>False</td>\n",
       "      <td>False</td>\n",
       "      <td>False</td>\n",
       "      <td>False</td>\n",
       "      <td>Day</td>\n",
       "      <td>Day</td>\n",
       "      <td>Day</td>\n",
       "      <td>Day</td>\n",
       "    </tr>\n",
       "    <tr>\n",
       "      <th>1</th>\n",
       "      <td>A-2</td>\n",
       "      <td>2</td>\n",
       "      <td>2019-10-07 17:43:09</td>\n",
       "      <td>2019-10-07 19:42:50</td>\n",
       "      <td>35.090080</td>\n",
       "      <td>-80.745560</td>\n",
       "      <td>35.090080</td>\n",
       "      <td>-80.745560</td>\n",
       "      <td>0.0</td>\n",
       "      <td>Accident on Houston Branch Rd at Providence Br...</td>\n",
       "      <td>...</td>\n",
       "      <td>False</td>\n",
       "      <td>False</td>\n",
       "      <td>False</td>\n",
       "      <td>False</td>\n",
       "      <td>False</td>\n",
       "      <td>False</td>\n",
       "      <td>Day</td>\n",
       "      <td>Day</td>\n",
       "      <td>Day</td>\n",
       "      <td>Day</td>\n",
       "    </tr>\n",
       "    <tr>\n",
       "      <th>2</th>\n",
       "      <td>A-3</td>\n",
       "      <td>2</td>\n",
       "      <td>2020-12-13 21:53:00</td>\n",
       "      <td>2020-12-13 22:44:00</td>\n",
       "      <td>37.145730</td>\n",
       "      <td>-121.985052</td>\n",
       "      <td>37.165850</td>\n",
       "      <td>-121.988062</td>\n",
       "      <td>1.4</td>\n",
       "      <td>Stationary traffic on CA-17 from Summit Rd (CA...</td>\n",
       "      <td>...</td>\n",
       "      <td>False</td>\n",
       "      <td>False</td>\n",
       "      <td>False</td>\n",
       "      <td>False</td>\n",
       "      <td>False</td>\n",
       "      <td>False</td>\n",
       "      <td>Night</td>\n",
       "      <td>Night</td>\n",
       "      <td>Night</td>\n",
       "      <td>Night</td>\n",
       "    </tr>\n",
       "    <tr>\n",
       "      <th>3</th>\n",
       "      <td>A-4</td>\n",
       "      <td>2</td>\n",
       "      <td>2018-04-17 16:51:23</td>\n",
       "      <td>2018-04-17 17:50:46</td>\n",
       "      <td>39.110390</td>\n",
       "      <td>-119.773781</td>\n",
       "      <td>39.110390</td>\n",
       "      <td>-119.773781</td>\n",
       "      <td>0.0</td>\n",
       "      <td>Accident on US-395 Southbound at Topsy Ln.</td>\n",
       "      <td>...</td>\n",
       "      <td>False</td>\n",
       "      <td>False</td>\n",
       "      <td>False</td>\n",
       "      <td>False</td>\n",
       "      <td>True</td>\n",
       "      <td>False</td>\n",
       "      <td>Day</td>\n",
       "      <td>Day</td>\n",
       "      <td>Day</td>\n",
       "      <td>Day</td>\n",
       "    </tr>\n",
       "    <tr>\n",
       "      <th>4</th>\n",
       "      <td>A-5</td>\n",
       "      <td>3</td>\n",
       "      <td>2016-08-31 17:40:49</td>\n",
       "      <td>2016-08-31 18:10:49</td>\n",
       "      <td>26.102942</td>\n",
       "      <td>-80.265091</td>\n",
       "      <td>26.102942</td>\n",
       "      <td>-80.265091</td>\n",
       "      <td>0.0</td>\n",
       "      <td>Accident on I-595 Westbound at Exit 4 / Pine I...</td>\n",
       "      <td>...</td>\n",
       "      <td>False</td>\n",
       "      <td>False</td>\n",
       "      <td>False</td>\n",
       "      <td>False</td>\n",
       "      <td>True</td>\n",
       "      <td>False</td>\n",
       "      <td>Day</td>\n",
       "      <td>Day</td>\n",
       "      <td>Day</td>\n",
       "      <td>Day</td>\n",
       "    </tr>\n",
       "  </tbody>\n",
       "</table>\n",
       "<p>5 rows × 47 columns</p>\n",
       "</div>"
      ],
      "text/plain": [
       "    ID  Severity           Start_Time             End_Time  Start_Lat  \\\n",
       "0  A-1         2  2019-05-21 08:29:55  2019-05-21 09:29:40  34.808868   \n",
       "1  A-2         2  2019-10-07 17:43:09  2019-10-07 19:42:50  35.090080   \n",
       "2  A-3         2  2020-12-13 21:53:00  2020-12-13 22:44:00  37.145730   \n",
       "3  A-4         2  2018-04-17 16:51:23  2018-04-17 17:50:46  39.110390   \n",
       "4  A-5         3  2016-08-31 17:40:49  2016-08-31 18:10:49  26.102942   \n",
       "\n",
       "    Start_Lng    End_Lat     End_Lng  Distance(mi)  \\\n",
       "0  -82.269157  34.808868  -82.269157           0.0   \n",
       "1  -80.745560  35.090080  -80.745560           0.0   \n",
       "2 -121.985052  37.165850 -121.988062           1.4   \n",
       "3 -119.773781  39.110390 -119.773781           0.0   \n",
       "4  -80.265091  26.102942  -80.265091           0.0   \n",
       "\n",
       "                                         Description  ...  Roundabout Station  \\\n",
       "0            Accident on Tanner Rd at Pennbrooke Ln.  ...       False   False   \n",
       "1  Accident on Houston Branch Rd at Providence Br...  ...       False   False   \n",
       "2  Stationary traffic on CA-17 from Summit Rd (CA...  ...       False   False   \n",
       "3         Accident on US-395 Southbound at Topsy Ln.  ...       False   False   \n",
       "4  Accident on I-595 Westbound at Exit 4 / Pine I...  ...       False   False   \n",
       "\n",
       "    Stop Traffic_Calming Traffic_Signal Turning_Loop Sunrise_Sunset  \\\n",
       "0  False           False          False        False            Day   \n",
       "1  False           False          False        False            Day   \n",
       "2  False           False          False        False          Night   \n",
       "3  False           False           True        False            Day   \n",
       "4  False           False           True        False            Day   \n",
       "\n",
       "  Civil_Twilight Nautical_Twilight Astronomical_Twilight  \n",
       "0            Day               Day                   Day  \n",
       "1            Day               Day                   Day  \n",
       "2          Night             Night                 Night  \n",
       "3            Day               Day                   Day  \n",
       "4            Day               Day                   Day  \n",
       "\n",
       "[5 rows x 47 columns]"
      ]
     },
     "execution_count": 36,
     "metadata": {},
     "output_type": "execute_result"
    }
   ],
   "source": [
    "import pandas as pd\n",
    "\n",
    "df = pd.read_csv(\"US_Accidents_Dec20_Updated.csv\")\n",
    "df.head()"
   ]
  },
  {
   "cell_type": "code",
   "execution_count": 37,
   "id": "7adc90ab",
   "metadata": {},
   "outputs": [
    {
     "data": {
      "text/plain": [
       "Index(['ID', 'Severity', 'Start_Time', 'End_Time', 'Start_Lat', 'Start_Lng',\n",
       "       'End_Lat', 'End_Lng', 'Distance(mi)', 'Description', 'Number', 'Street',\n",
       "       'Side', 'City', 'County', 'State', 'Zipcode', 'Country', 'Timezone',\n",
       "       'Airport_Code', 'Weather_Timestamp', 'Temperature(F)', 'Wind_Chill(F)',\n",
       "       'Humidity(%)', 'Pressure(in)', 'Visibility(mi)', 'Wind_Direction',\n",
       "       'Wind_Speed(mph)', 'Precipitation(in)', 'Weather_Condition', 'Amenity',\n",
       "       'Bump', 'Crossing', 'Give_Way', 'Junction', 'No_Exit', 'Railway',\n",
       "       'Roundabout', 'Station', 'Stop', 'Traffic_Calming', 'Traffic_Signal',\n",
       "       'Turning_Loop', 'Sunrise_Sunset', 'Civil_Twilight', 'Nautical_Twilight',\n",
       "       'Astronomical_Twilight'],\n",
       "      dtype='object')"
      ]
     },
     "execution_count": 37,
     "metadata": {},
     "output_type": "execute_result"
    }
   ],
   "source": [
    "df.columns"
   ]
  },
  {
   "cell_type": "code",
   "execution_count": 38,
   "id": "c07c85fa",
   "metadata": {},
   "outputs": [
    {
     "name": "stdout",
     "output_type": "stream",
     "text": [
      "<class 'pandas.core.frame.DataFrame'>\n",
      "RangeIndex: 42768 entries, 0 to 42767\n",
      "Data columns (total 47 columns):\n",
      " #   Column                 Non-Null Count  Dtype  \n",
      "---  ------                 --------------  -----  \n",
      " 0   ID                     42768 non-null  object \n",
      " 1   Severity               42768 non-null  int64  \n",
      " 2   Start_Time             42768 non-null  object \n",
      " 3   End_Time               42768 non-null  object \n",
      " 4   Start_Lat              42768 non-null  float64\n",
      " 5   Start_Lng              42767 non-null  float64\n",
      " 6   End_Lat                38562 non-null  float64\n",
      " 7   End_Lng                38562 non-null  float64\n",
      " 8   Distance(mi)           42767 non-null  float64\n",
      " 9   Description            42767 non-null  object \n",
      " 10  Number                 14888 non-null  float64\n",
      " 11  Street                 42767 non-null  object \n",
      " 12  Side                   42767 non-null  object \n",
      " 13  City                   42763 non-null  object \n",
      " 14  County                 42767 non-null  object \n",
      " 15  State                  42767 non-null  object \n",
      " 16  Zipcode                42754 non-null  object \n",
      " 17  Country                42767 non-null  object \n",
      " 18  Timezone               42722 non-null  object \n",
      " 19  Airport_Code           42675 non-null  object \n",
      " 20  Weather_Timestamp      42086 non-null  object \n",
      " 21  Temperature(F)         41785 non-null  float64\n",
      " 22  Wind_Chill(F)          25171 non-null  float64\n",
      " 23  Humidity(%)            41728 non-null  float64\n",
      " 24  Pressure(in)           41928 non-null  float64\n",
      " 25  Visibility(mi)         41718 non-null  float64\n",
      " 26  Wind_Direction         41843 non-null  object \n",
      " 27  Wind_Speed(mph)        38250 non-null  float64\n",
      " 28  Precipitation(in)      23564 non-null  float64\n",
      " 29  Weather_Condition      41711 non-null  object \n",
      " 30  Amenity                42767 non-null  object \n",
      " 31  Bump                   42767 non-null  object \n",
      " 32  Crossing               42767 non-null  object \n",
      " 33  Give_Way               42767 non-null  object \n",
      " 34  Junction               42767 non-null  object \n",
      " 35  No_Exit                42767 non-null  object \n",
      " 36  Railway                42767 non-null  object \n",
      " 37  Roundabout             42767 non-null  object \n",
      " 38  Station                42767 non-null  object \n",
      " 39  Stop                   42767 non-null  object \n",
      " 40  Traffic_Calming        42767 non-null  object \n",
      " 41  Traffic_Signal         42767 non-null  object \n",
      " 42  Turning_Loop           42767 non-null  object \n",
      " 43  Sunrise_Sunset         42763 non-null  object \n",
      " 44  Civil_Twilight         42763 non-null  object \n",
      " 45  Nautical_Twilight      42763 non-null  object \n",
      " 46  Astronomical_Twilight  42763 non-null  object \n",
      "dtypes: float64(13), int64(1), object(33)\n",
      "memory usage: 15.3+ MB\n"
     ]
    }
   ],
   "source": [
    "df.info()"
   ]
  },
  {
   "cell_type": "code",
   "execution_count": 39,
   "id": "10aae323",
   "metadata": {},
   "outputs": [
    {
     "data": {
      "text/html": [
       "<div>\n",
       "<style scoped>\n",
       "    .dataframe tbody tr th:only-of-type {\n",
       "        vertical-align: middle;\n",
       "    }\n",
       "\n",
       "    .dataframe tbody tr th {\n",
       "        vertical-align: top;\n",
       "    }\n",
       "\n",
       "    .dataframe thead th {\n",
       "        text-align: right;\n",
       "    }\n",
       "</style>\n",
       "<table border=\"1\" class=\"dataframe\">\n",
       "  <thead>\n",
       "    <tr style=\"text-align: right;\">\n",
       "      <th></th>\n",
       "      <th>Severity</th>\n",
       "      <th>Start_Lat</th>\n",
       "      <th>Start_Lng</th>\n",
       "      <th>End_Lat</th>\n",
       "      <th>End_Lng</th>\n",
       "      <th>Distance(mi)</th>\n",
       "      <th>Number</th>\n",
       "      <th>Temperature(F)</th>\n",
       "      <th>Wind_Chill(F)</th>\n",
       "      <th>Humidity(%)</th>\n",
       "      <th>Pressure(in)</th>\n",
       "      <th>Visibility(mi)</th>\n",
       "      <th>Wind_Speed(mph)</th>\n",
       "      <th>Precipitation(in)</th>\n",
       "    </tr>\n",
       "  </thead>\n",
       "  <tbody>\n",
       "    <tr>\n",
       "      <th>count</th>\n",
       "      <td>42768.000000</td>\n",
       "      <td>42768.000000</td>\n",
       "      <td>42767.000000</td>\n",
       "      <td>38562.000000</td>\n",
       "      <td>38562.000000</td>\n",
       "      <td>42767.000000</td>\n",
       "      <td>14888.000000</td>\n",
       "      <td>41785.000000</td>\n",
       "      <td>25171.000000</td>\n",
       "      <td>41728.000000</td>\n",
       "      <td>41928.000000</td>\n",
       "      <td>41718.000000</td>\n",
       "      <td>38250.000000</td>\n",
       "      <td>23564.000000</td>\n",
       "    </tr>\n",
       "    <tr>\n",
       "      <th>mean</th>\n",
       "      <td>2.289632</td>\n",
       "      <td>36.495281</td>\n",
       "      <td>-96.397656</td>\n",
       "      <td>36.474763</td>\n",
       "      <td>-96.128667</td>\n",
       "      <td>0.395864</td>\n",
       "      <td>6686.169130</td>\n",
       "      <td>61.049345</td>\n",
       "      <td>55.007914</td>\n",
       "      <td>65.188363</td>\n",
       "      <td>29.658250</td>\n",
       "      <td>9.133120</td>\n",
       "      <td>7.855014</td>\n",
       "      <td>0.010956</td>\n",
       "    </tr>\n",
       "    <tr>\n",
       "      <th>std</th>\n",
       "      <td>0.555169</td>\n",
       "      <td>4.997337</td>\n",
       "      <td>17.744411</td>\n",
       "      <td>4.995932</td>\n",
       "      <td>17.633613</td>\n",
       "      <td>1.608695</td>\n",
       "      <td>14504.608766</td>\n",
       "      <td>18.413176</td>\n",
       "      <td>22.212886</td>\n",
       "      <td>22.866381</td>\n",
       "      <td>0.907478</td>\n",
       "      <td>2.818903</td>\n",
       "      <td>5.267950</td>\n",
       "      <td>0.139378</td>\n",
       "    </tr>\n",
       "    <tr>\n",
       "      <th>min</th>\n",
       "      <td>1.000000</td>\n",
       "      <td>24.574811</td>\n",
       "      <td>-124.486270</td>\n",
       "      <td>24.571389</td>\n",
       "      <td>-124.486270</td>\n",
       "      <td>0.000000</td>\n",
       "      <td>1.000000</td>\n",
       "      <td>-23.800000</td>\n",
       "      <td>-41.600000</td>\n",
       "      <td>2.000000</td>\n",
       "      <td>20.270000</td>\n",
       "      <td>0.000000</td>\n",
       "      <td>0.000000</td>\n",
       "      <td>0.000000</td>\n",
       "    </tr>\n",
       "    <tr>\n",
       "      <th>25%</th>\n",
       "      <td>2.000000</td>\n",
       "      <td>33.631295</td>\n",
       "      <td>-117.810017</td>\n",
       "      <td>33.603940</td>\n",
       "      <td>-117.658536</td>\n",
       "      <td>0.000000</td>\n",
       "      <td>933.000000</td>\n",
       "      <td>49.000000</td>\n",
       "      <td>39.000000</td>\n",
       "      <td>49.000000</td>\n",
       "      <td>29.590000</td>\n",
       "      <td>10.000000</td>\n",
       "      <td>4.600000</td>\n",
       "      <td>0.000000</td>\n",
       "    </tr>\n",
       "    <tr>\n",
       "      <th>50%</th>\n",
       "      <td>2.000000</td>\n",
       "      <td>36.069109</td>\n",
       "      <td>-91.192314</td>\n",
       "      <td>36.019261</td>\n",
       "      <td>-91.060528</td>\n",
       "      <td>0.000000</td>\n",
       "      <td>3016.000000</td>\n",
       "      <td>63.000000</td>\n",
       "      <td>58.000000</td>\n",
       "      <td>68.000000</td>\n",
       "      <td>29.920000</td>\n",
       "      <td>10.000000</td>\n",
       "      <td>7.000000</td>\n",
       "      <td>0.000000</td>\n",
       "    </tr>\n",
       "    <tr>\n",
       "      <th>75%</th>\n",
       "      <td>3.000000</td>\n",
       "      <td>40.316956</td>\n",
       "      <td>-80.843825</td>\n",
       "      <td>40.268014</td>\n",
       "      <td>-80.824167</td>\n",
       "      <td>0.288000</td>\n",
       "      <td>7990.250000</td>\n",
       "      <td>75.000000</td>\n",
       "      <td>72.000000</td>\n",
       "      <td>84.000000</td>\n",
       "      <td>30.070000</td>\n",
       "      <td>10.000000</td>\n",
       "      <td>10.400000</td>\n",
       "      <td>0.000000</td>\n",
       "    </tr>\n",
       "    <tr>\n",
       "      <th>max</th>\n",
       "      <td>4.000000</td>\n",
       "      <td>48.997581</td>\n",
       "      <td>-68.365955</td>\n",
       "      <td>48.997581</td>\n",
       "      <td>-68.365405</td>\n",
       "      <td>148.360001</td>\n",
       "      <td>851799.000000</td>\n",
       "      <td>117.000000</td>\n",
       "      <td>110.000000</td>\n",
       "      <td>100.000000</td>\n",
       "      <td>31.120000</td>\n",
       "      <td>80.000000</td>\n",
       "      <td>232.000000</td>\n",
       "      <td>9.990000</td>\n",
       "    </tr>\n",
       "  </tbody>\n",
       "</table>\n",
       "</div>"
      ],
      "text/plain": [
       "           Severity     Start_Lat     Start_Lng       End_Lat       End_Lng  \\\n",
       "count  42768.000000  42768.000000  42767.000000  38562.000000  38562.000000   \n",
       "mean       2.289632     36.495281    -96.397656     36.474763    -96.128667   \n",
       "std        0.555169      4.997337     17.744411      4.995932     17.633613   \n",
       "min        1.000000     24.574811   -124.486270     24.571389   -124.486270   \n",
       "25%        2.000000     33.631295   -117.810017     33.603940   -117.658536   \n",
       "50%        2.000000     36.069109    -91.192314     36.019261    -91.060528   \n",
       "75%        3.000000     40.316956    -80.843825     40.268014    -80.824167   \n",
       "max        4.000000     48.997581    -68.365955     48.997581    -68.365405   \n",
       "\n",
       "       Distance(mi)         Number  Temperature(F)  Wind_Chill(F)  \\\n",
       "count  42767.000000   14888.000000    41785.000000   25171.000000   \n",
       "mean       0.395864    6686.169130       61.049345      55.007914   \n",
       "std        1.608695   14504.608766       18.413176      22.212886   \n",
       "min        0.000000       1.000000      -23.800000     -41.600000   \n",
       "25%        0.000000     933.000000       49.000000      39.000000   \n",
       "50%        0.000000    3016.000000       63.000000      58.000000   \n",
       "75%        0.288000    7990.250000       75.000000      72.000000   \n",
       "max      148.360001  851799.000000      117.000000     110.000000   \n",
       "\n",
       "        Humidity(%)  Pressure(in)  Visibility(mi)  Wind_Speed(mph)  \\\n",
       "count  41728.000000  41928.000000    41718.000000     38250.000000   \n",
       "mean      65.188363     29.658250        9.133120         7.855014   \n",
       "std       22.866381      0.907478        2.818903         5.267950   \n",
       "min        2.000000     20.270000        0.000000         0.000000   \n",
       "25%       49.000000     29.590000       10.000000         4.600000   \n",
       "50%       68.000000     29.920000       10.000000         7.000000   \n",
       "75%       84.000000     30.070000       10.000000        10.400000   \n",
       "max      100.000000     31.120000       80.000000       232.000000   \n",
       "\n",
       "       Precipitation(in)  \n",
       "count       23564.000000  \n",
       "mean            0.010956  \n",
       "std             0.139378  \n",
       "min             0.000000  \n",
       "25%             0.000000  \n",
       "50%             0.000000  \n",
       "75%             0.000000  \n",
       "max             9.990000  "
      ]
     },
     "execution_count": 39,
     "metadata": {},
     "output_type": "execute_result"
    }
   ],
   "source": [
    "df.describe()"
   ]
  },
  {
   "cell_type": "code",
   "execution_count": 40,
   "id": "245cb52e",
   "metadata": {},
   "outputs": [
    {
     "data": {
      "text/plain": [
       "Number                   27880\n",
       "Precipitation(in)        19204\n",
       "Wind_Chill(F)            17597\n",
       "Wind_Speed(mph)           4518\n",
       "End_Lat                   4206\n",
       "End_Lng                   4206\n",
       "Weather_Condition         1057\n",
       "Visibility(mi)            1050\n",
       "Humidity(%)               1040\n",
       "Temperature(F)             983\n",
       "Wind_Direction             925\n",
       "Pressure(in)               840\n",
       "Weather_Timestamp          682\n",
       "Airport_Code                93\n",
       "Timezone                    46\n",
       "Zipcode                     14\n",
       "Sunrise_Sunset               5\n",
       "Civil_Twilight               5\n",
       "Nautical_Twilight            5\n",
       "Astronomical_Twilight        5\n",
       "City                         5\n",
       "Country                      1\n",
       "State                        1\n",
       "Turning_Loop                 1\n",
       "Traffic_Signal               1\n",
       "Traffic_Calming              1\n",
       "Stop                         1\n",
       "Station                      1\n",
       "Roundabout                   1\n",
       "Railway                      1\n",
       "No_Exit                      1\n",
       "Junction                     1\n",
       "Give_Way                     1\n",
       "Crossing                     1\n",
       "Bump                         1\n",
       "Amenity                      1\n",
       "Start_Lng                    1\n",
       "Distance(mi)                 1\n",
       "Description                  1\n",
       "Street                       1\n",
       "Side                         1\n",
       "County                       1\n",
       "Severity                     0\n",
       "Start_Lat                    0\n",
       "End_Time                     0\n",
       "Start_Time                   0\n",
       "ID                           0\n",
       "dtype: int64"
      ]
     },
     "execution_count": 40,
     "metadata": {},
     "output_type": "execute_result"
    }
   ],
   "source": [
    "df.isna().sum().sort_values(ascending = False)"
   ]
  },
  {
   "cell_type": "code",
   "execution_count": 41,
   "id": "cb09577d",
   "metadata": {},
   "outputs": [
    {
     "data": {
      "text/html": [
       "<div>\n",
       "<style scoped>\n",
       "    .dataframe tbody tr th:only-of-type {\n",
       "        vertical-align: middle;\n",
       "    }\n",
       "\n",
       "    .dataframe tbody tr th {\n",
       "        vertical-align: top;\n",
       "    }\n",
       "\n",
       "    .dataframe thead th {\n",
       "        text-align: right;\n",
       "    }\n",
       "</style>\n",
       "<table border=\"1\" class=\"dataframe\">\n",
       "  <thead>\n",
       "    <tr style=\"text-align: right;\">\n",
       "      <th></th>\n",
       "      <th>ID</th>\n",
       "      <th>Severity</th>\n",
       "      <th>Start_Time</th>\n",
       "      <th>End_Time</th>\n",
       "      <th>Start_Lat</th>\n",
       "      <th>Start_Lng</th>\n",
       "      <th>End_Lat</th>\n",
       "      <th>End_Lng</th>\n",
       "      <th>Distance(mi)</th>\n",
       "      <th>Description</th>\n",
       "      <th>...</th>\n",
       "      <th>Roundabout</th>\n",
       "      <th>Station</th>\n",
       "      <th>Stop</th>\n",
       "      <th>Traffic_Calming</th>\n",
       "      <th>Traffic_Signal</th>\n",
       "      <th>Turning_Loop</th>\n",
       "      <th>Sunrise_Sunset</th>\n",
       "      <th>Civil_Twilight</th>\n",
       "      <th>Nautical_Twilight</th>\n",
       "      <th>Astronomical_Twilight</th>\n",
       "    </tr>\n",
       "  </thead>\n",
       "  <tbody>\n",
       "    <tr>\n",
       "      <th>0</th>\n",
       "      <td>False</td>\n",
       "      <td>False</td>\n",
       "      <td>False</td>\n",
       "      <td>False</td>\n",
       "      <td>False</td>\n",
       "      <td>False</td>\n",
       "      <td>False</td>\n",
       "      <td>False</td>\n",
       "      <td>False</td>\n",
       "      <td>False</td>\n",
       "      <td>...</td>\n",
       "      <td>False</td>\n",
       "      <td>False</td>\n",
       "      <td>False</td>\n",
       "      <td>False</td>\n",
       "      <td>False</td>\n",
       "      <td>False</td>\n",
       "      <td>False</td>\n",
       "      <td>False</td>\n",
       "      <td>False</td>\n",
       "      <td>False</td>\n",
       "    </tr>\n",
       "    <tr>\n",
       "      <th>1</th>\n",
       "      <td>False</td>\n",
       "      <td>False</td>\n",
       "      <td>False</td>\n",
       "      <td>False</td>\n",
       "      <td>False</td>\n",
       "      <td>False</td>\n",
       "      <td>False</td>\n",
       "      <td>False</td>\n",
       "      <td>False</td>\n",
       "      <td>False</td>\n",
       "      <td>...</td>\n",
       "      <td>False</td>\n",
       "      <td>False</td>\n",
       "      <td>False</td>\n",
       "      <td>False</td>\n",
       "      <td>False</td>\n",
       "      <td>False</td>\n",
       "      <td>False</td>\n",
       "      <td>False</td>\n",
       "      <td>False</td>\n",
       "      <td>False</td>\n",
       "    </tr>\n",
       "    <tr>\n",
       "      <th>2</th>\n",
       "      <td>False</td>\n",
       "      <td>False</td>\n",
       "      <td>False</td>\n",
       "      <td>False</td>\n",
       "      <td>False</td>\n",
       "      <td>False</td>\n",
       "      <td>False</td>\n",
       "      <td>False</td>\n",
       "      <td>False</td>\n",
       "      <td>False</td>\n",
       "      <td>...</td>\n",
       "      <td>False</td>\n",
       "      <td>False</td>\n",
       "      <td>False</td>\n",
       "      <td>False</td>\n",
       "      <td>False</td>\n",
       "      <td>False</td>\n",
       "      <td>False</td>\n",
       "      <td>False</td>\n",
       "      <td>False</td>\n",
       "      <td>False</td>\n",
       "    </tr>\n",
       "    <tr>\n",
       "      <th>3</th>\n",
       "      <td>False</td>\n",
       "      <td>False</td>\n",
       "      <td>False</td>\n",
       "      <td>False</td>\n",
       "      <td>False</td>\n",
       "      <td>False</td>\n",
       "      <td>False</td>\n",
       "      <td>False</td>\n",
       "      <td>False</td>\n",
       "      <td>False</td>\n",
       "      <td>...</td>\n",
       "      <td>False</td>\n",
       "      <td>False</td>\n",
       "      <td>False</td>\n",
       "      <td>False</td>\n",
       "      <td>False</td>\n",
       "      <td>False</td>\n",
       "      <td>False</td>\n",
       "      <td>False</td>\n",
       "      <td>False</td>\n",
       "      <td>False</td>\n",
       "    </tr>\n",
       "    <tr>\n",
       "      <th>4</th>\n",
       "      <td>False</td>\n",
       "      <td>False</td>\n",
       "      <td>False</td>\n",
       "      <td>False</td>\n",
       "      <td>False</td>\n",
       "      <td>False</td>\n",
       "      <td>False</td>\n",
       "      <td>False</td>\n",
       "      <td>False</td>\n",
       "      <td>False</td>\n",
       "      <td>...</td>\n",
       "      <td>False</td>\n",
       "      <td>False</td>\n",
       "      <td>False</td>\n",
       "      <td>False</td>\n",
       "      <td>False</td>\n",
       "      <td>False</td>\n",
       "      <td>False</td>\n",
       "      <td>False</td>\n",
       "      <td>False</td>\n",
       "      <td>False</td>\n",
       "    </tr>\n",
       "    <tr>\n",
       "      <th>...</th>\n",
       "      <td>...</td>\n",
       "      <td>...</td>\n",
       "      <td>...</td>\n",
       "      <td>...</td>\n",
       "      <td>...</td>\n",
       "      <td>...</td>\n",
       "      <td>...</td>\n",
       "      <td>...</td>\n",
       "      <td>...</td>\n",
       "      <td>...</td>\n",
       "      <td>...</td>\n",
       "      <td>...</td>\n",
       "      <td>...</td>\n",
       "      <td>...</td>\n",
       "      <td>...</td>\n",
       "      <td>...</td>\n",
       "      <td>...</td>\n",
       "      <td>...</td>\n",
       "      <td>...</td>\n",
       "      <td>...</td>\n",
       "      <td>...</td>\n",
       "    </tr>\n",
       "    <tr>\n",
       "      <th>42763</th>\n",
       "      <td>False</td>\n",
       "      <td>False</td>\n",
       "      <td>False</td>\n",
       "      <td>False</td>\n",
       "      <td>False</td>\n",
       "      <td>False</td>\n",
       "      <td>False</td>\n",
       "      <td>False</td>\n",
       "      <td>False</td>\n",
       "      <td>False</td>\n",
       "      <td>...</td>\n",
       "      <td>False</td>\n",
       "      <td>False</td>\n",
       "      <td>False</td>\n",
       "      <td>False</td>\n",
       "      <td>False</td>\n",
       "      <td>False</td>\n",
       "      <td>False</td>\n",
       "      <td>False</td>\n",
       "      <td>False</td>\n",
       "      <td>False</td>\n",
       "    </tr>\n",
       "    <tr>\n",
       "      <th>42764</th>\n",
       "      <td>False</td>\n",
       "      <td>False</td>\n",
       "      <td>False</td>\n",
       "      <td>False</td>\n",
       "      <td>False</td>\n",
       "      <td>False</td>\n",
       "      <td>False</td>\n",
       "      <td>False</td>\n",
       "      <td>False</td>\n",
       "      <td>False</td>\n",
       "      <td>...</td>\n",
       "      <td>False</td>\n",
       "      <td>False</td>\n",
       "      <td>False</td>\n",
       "      <td>False</td>\n",
       "      <td>False</td>\n",
       "      <td>False</td>\n",
       "      <td>False</td>\n",
       "      <td>False</td>\n",
       "      <td>False</td>\n",
       "      <td>False</td>\n",
       "    </tr>\n",
       "    <tr>\n",
       "      <th>42765</th>\n",
       "      <td>False</td>\n",
       "      <td>False</td>\n",
       "      <td>False</td>\n",
       "      <td>False</td>\n",
       "      <td>False</td>\n",
       "      <td>False</td>\n",
       "      <td>True</td>\n",
       "      <td>True</td>\n",
       "      <td>False</td>\n",
       "      <td>False</td>\n",
       "      <td>...</td>\n",
       "      <td>False</td>\n",
       "      <td>False</td>\n",
       "      <td>False</td>\n",
       "      <td>False</td>\n",
       "      <td>False</td>\n",
       "      <td>False</td>\n",
       "      <td>False</td>\n",
       "      <td>False</td>\n",
       "      <td>False</td>\n",
       "      <td>False</td>\n",
       "    </tr>\n",
       "    <tr>\n",
       "      <th>42766</th>\n",
       "      <td>False</td>\n",
       "      <td>False</td>\n",
       "      <td>False</td>\n",
       "      <td>False</td>\n",
       "      <td>False</td>\n",
       "      <td>False</td>\n",
       "      <td>False</td>\n",
       "      <td>False</td>\n",
       "      <td>False</td>\n",
       "      <td>False</td>\n",
       "      <td>...</td>\n",
       "      <td>False</td>\n",
       "      <td>False</td>\n",
       "      <td>False</td>\n",
       "      <td>False</td>\n",
       "      <td>False</td>\n",
       "      <td>False</td>\n",
       "      <td>False</td>\n",
       "      <td>False</td>\n",
       "      <td>False</td>\n",
       "      <td>False</td>\n",
       "    </tr>\n",
       "    <tr>\n",
       "      <th>42767</th>\n",
       "      <td>False</td>\n",
       "      <td>False</td>\n",
       "      <td>False</td>\n",
       "      <td>False</td>\n",
       "      <td>False</td>\n",
       "      <td>True</td>\n",
       "      <td>True</td>\n",
       "      <td>True</td>\n",
       "      <td>True</td>\n",
       "      <td>True</td>\n",
       "      <td>...</td>\n",
       "      <td>True</td>\n",
       "      <td>True</td>\n",
       "      <td>True</td>\n",
       "      <td>True</td>\n",
       "      <td>True</td>\n",
       "      <td>True</td>\n",
       "      <td>True</td>\n",
       "      <td>True</td>\n",
       "      <td>True</td>\n",
       "      <td>True</td>\n",
       "    </tr>\n",
       "  </tbody>\n",
       "</table>\n",
       "<p>42768 rows × 47 columns</p>\n",
       "</div>"
      ],
      "text/plain": [
       "          ID  Severity  Start_Time  End_Time  Start_Lat  Start_Lng  End_Lat  \\\n",
       "0      False     False       False     False      False      False    False   \n",
       "1      False     False       False     False      False      False    False   \n",
       "2      False     False       False     False      False      False    False   \n",
       "3      False     False       False     False      False      False    False   \n",
       "4      False     False       False     False      False      False    False   \n",
       "...      ...       ...         ...       ...        ...        ...      ...   \n",
       "42763  False     False       False     False      False      False    False   \n",
       "42764  False     False       False     False      False      False    False   \n",
       "42765  False     False       False     False      False      False     True   \n",
       "42766  False     False       False     False      False      False    False   \n",
       "42767  False     False       False     False      False       True     True   \n",
       "\n",
       "       End_Lng  Distance(mi)  Description  ...  Roundabout  Station   Stop  \\\n",
       "0        False         False        False  ...       False    False  False   \n",
       "1        False         False        False  ...       False    False  False   \n",
       "2        False         False        False  ...       False    False  False   \n",
       "3        False         False        False  ...       False    False  False   \n",
       "4        False         False        False  ...       False    False  False   \n",
       "...        ...           ...          ...  ...         ...      ...    ...   \n",
       "42763    False         False        False  ...       False    False  False   \n",
       "42764    False         False        False  ...       False    False  False   \n",
       "42765     True         False        False  ...       False    False  False   \n",
       "42766    False         False        False  ...       False    False  False   \n",
       "42767     True          True         True  ...        True     True   True   \n",
       "\n",
       "       Traffic_Calming  Traffic_Signal  Turning_Loop  Sunrise_Sunset  \\\n",
       "0                False           False         False           False   \n",
       "1                False           False         False           False   \n",
       "2                False           False         False           False   \n",
       "3                False           False         False           False   \n",
       "4                False           False         False           False   \n",
       "...                ...             ...           ...             ...   \n",
       "42763            False           False         False           False   \n",
       "42764            False           False         False           False   \n",
       "42765            False           False         False           False   \n",
       "42766            False           False         False           False   \n",
       "42767             True            True          True            True   \n",
       "\n",
       "       Civil_Twilight  Nautical_Twilight  Astronomical_Twilight  \n",
       "0               False              False                  False  \n",
       "1               False              False                  False  \n",
       "2               False              False                  False  \n",
       "3               False              False                  False  \n",
       "4               False              False                  False  \n",
       "...               ...                ...                    ...  \n",
       "42763           False              False                  False  \n",
       "42764           False              False                  False  \n",
       "42765           False              False                  False  \n",
       "42766           False              False                  False  \n",
       "42767            True               True                   True  \n",
       "\n",
       "[42768 rows x 47 columns]"
      ]
     },
     "execution_count": 41,
     "metadata": {},
     "output_type": "execute_result"
    }
   ],
   "source": [
    "df.isna()"
   ]
  },
  {
   "cell_type": "code",
   "execution_count": 42,
   "id": "2dc795dd",
   "metadata": {},
   "outputs": [
    {
     "data": {
      "text/plain": [
       "Number                   0.651889\n",
       "Precipitation(in)        0.449027\n",
       "Wind_Chill(F)            0.411452\n",
       "Wind_Speed(mph)          0.105640\n",
       "End_Lat                  0.098345\n",
       "End_Lng                  0.098345\n",
       "Weather_Condition        0.024715\n",
       "Visibility(mi)           0.024551\n",
       "Humidity(%)              0.024317\n",
       "Temperature(F)           0.022984\n",
       "Wind_Direction           0.021628\n",
       "Pressure(in)             0.019641\n",
       "Weather_Timestamp        0.015947\n",
       "Airport_Code             0.002175\n",
       "Timezone                 0.001076\n",
       "Zipcode                  0.000327\n",
       "Sunrise_Sunset           0.000117\n",
       "Civil_Twilight           0.000117\n",
       "Nautical_Twilight        0.000117\n",
       "Astronomical_Twilight    0.000117\n",
       "City                     0.000117\n",
       "Country                  0.000023\n",
       "State                    0.000023\n",
       "Turning_Loop             0.000023\n",
       "Traffic_Signal           0.000023\n",
       "Traffic_Calming          0.000023\n",
       "Stop                     0.000023\n",
       "Station                  0.000023\n",
       "Roundabout               0.000023\n",
       "Railway                  0.000023\n",
       "No_Exit                  0.000023\n",
       "Junction                 0.000023\n",
       "Give_Way                 0.000023\n",
       "Crossing                 0.000023\n",
       "Bump                     0.000023\n",
       "Amenity                  0.000023\n",
       "Start_Lng                0.000023\n",
       "Distance(mi)             0.000023\n",
       "Description              0.000023\n",
       "Street                   0.000023\n",
       "Side                     0.000023\n",
       "County                   0.000023\n",
       "Severity                 0.000000\n",
       "Start_Lat                0.000000\n",
       "End_Time                 0.000000\n",
       "Start_Time               0.000000\n",
       "ID                       0.000000\n",
       "dtype: float64"
      ]
     },
     "execution_count": 42,
     "metadata": {},
     "output_type": "execute_result"
    }
   ],
   "source": [
    "missing_percentage = df.isna().sum().sort_values(ascending = False)/len(df)\n",
    "missing_percentage\n",
    "\n"
   ]
  },
  {
   "cell_type": "code",
   "execution_count": 43,
   "id": "aa844620",
   "metadata": {
    "scrolled": true
   },
   "outputs": [
    {
     "data": {
      "text/plain": [
       "Number                   0.651889\n",
       "Precipitation(in)        0.449027\n",
       "Wind_Chill(F)            0.411452\n",
       "Wind_Speed(mph)          0.105640\n",
       "End_Lat                  0.098345\n",
       "End_Lng                  0.098345\n",
       "Weather_Condition        0.024715\n",
       "Visibility(mi)           0.024551\n",
       "Humidity(%)              0.024317\n",
       "Temperature(F)           0.022984\n",
       "Wind_Direction           0.021628\n",
       "Pressure(in)             0.019641\n",
       "Weather_Timestamp        0.015947\n",
       "Airport_Code             0.002175\n",
       "Timezone                 0.001076\n",
       "Zipcode                  0.000327\n",
       "Sunrise_Sunset           0.000117\n",
       "Civil_Twilight           0.000117\n",
       "Nautical_Twilight        0.000117\n",
       "Astronomical_Twilight    0.000117\n",
       "City                     0.000117\n",
       "Country                  0.000023\n",
       "State                    0.000023\n",
       "Turning_Loop             0.000023\n",
       "Traffic_Signal           0.000023\n",
       "Traffic_Calming          0.000023\n",
       "Stop                     0.000023\n",
       "Station                  0.000023\n",
       "Roundabout               0.000023\n",
       "Railway                  0.000023\n",
       "No_Exit                  0.000023\n",
       "Junction                 0.000023\n",
       "Give_Way                 0.000023\n",
       "Crossing                 0.000023\n",
       "Bump                     0.000023\n",
       "Amenity                  0.000023\n",
       "Start_Lng                0.000023\n",
       "Distance(mi)             0.000023\n",
       "Description              0.000023\n",
       "Street                   0.000023\n",
       "Side                     0.000023\n",
       "County                   0.000023\n",
       "dtype: float64"
      ]
     },
     "execution_count": 43,
     "metadata": {},
     "output_type": "execute_result"
    }
   ],
   "source": [
    "missing_percentage[missing_percentage != 0]"
   ]
  },
  {
   "cell_type": "code",
   "execution_count": 44,
   "id": "94cfa726",
   "metadata": {},
   "outputs": [
    {
     "data": {
      "text/plain": [
       "<Axes: >"
      ]
     },
     "execution_count": 44,
     "metadata": {},
     "output_type": "execute_result"
    },
    {
     "data": {
      "image/png": "[encoded data removed]",
      "text/plain": [
       "<Figure size 640x480 with 1 Axes>"
      ]
     },
     "metadata": {},
     "output_type": "display_data"
    }
   ],
   "source": [
    "missing_percentage[missing_percentage != 0].plot(kind = 'bar')"
   ]
  },
  {
   "cell_type": "code",
   "execution_count": 35,
   "id": "8abf0b4f",
   "metadata": {},
   "outputs": [
    {
     "data": {
      "text/plain": [
       "0         SC\n",
       "1         NC\n",
       "2         CA\n",
       "3         NV\n",
       "4         FL\n",
       "        ... \n",
       "42763     NY\n",
       "42764     LA\n",
       "42765     CA\n",
       "42766     LA\n",
       "42767    NaN\n",
       "Name: State, Length: 42768, dtype: object"
      ]
     },
     "execution_count": 35,
     "metadata": {},
     "output_type": "execute_result"
    }
   ],
   "source": [
    "df.State"
   ]
  },
  {
   "cell_type": "code",
   "execution_count": 45,
   "id": "b3ed50aa",
   "metadata": {},
   "outputs": [
    {
     "data": {
      "text/plain": [
       "State\n",
       "CA    10790\n",
       "FL     3841\n",
       "TX     3459\n",
       "NY     1908\n",
       "NC     1854\n",
       "SC     1673\n",
       "OR     1403\n",
       "VA     1356\n",
       "PA     1315\n",
       "MN     1153\n",
       "Name: count, dtype: int64"
      ]
     },
     "execution_count": 45,
     "metadata": {},
     "output_type": "execute_result"
    }
   ],
   "source": [
    "#top 10 states by accident\n",
    "states_by_accident = df.State.value_counts()\n",
    "states_by_accident[:10]"
   ]
  },
  {
   "cell_type": "code",
   "execution_count": 48,
   "id": "114b7642",
   "metadata": {},
   "outputs": [
    {
     "data": {
      "text/plain": [
       "<Axes: xlabel='State'>"
      ]
     },
     "execution_count": 48,
     "metadata": {},
     "output_type": "execute_result"
    },
    {
     "data": {
      "image/png": "[encoded data removed]",
      "text/plain": [
       "<Figure size 640x480 with 1 Axes>"
      ]
     },
     "metadata": {},
     "output_type": "display_data"
    }
   ],
   "source": [
    "states_by_accident[:10].plot(kind = 'bar')"
   ]
  },
  {
   "cell_type": "code",
   "execution_count": 49,
   "id": "82a291fa",
   "metadata": {},
   "outputs": [
    {
     "data": {
      "text/plain": [
       "array(['Greenville', 'Charlotte', 'Los Gatos', ..., 'Edgefield',\n",
       "       'Mays Landing', 'Killingworth'], dtype=object)"
      ]
     },
     "execution_count": 49,
     "metadata": {},
     "output_type": "execute_result"
    }
   ],
   "source": [
    "#pull out the column\n",
    "df.City  \n",
    "\n",
    "#look at the unique values of the column\n",
    "df.City.unique()"
   ]
  },
  {
   "cell_type": "code",
   "execution_count": 51,
   "id": "cd6e2b7f",
   "metadata": {},
   "outputs": [
    {
     "data": {
      "text/plain": [
       "City\n",
       "Houston         1099\n",
       "Los Angeles      971\n",
       "Charlotte        849\n",
       "Dallas           748\n",
       "Miami            731\n",
       "                ... \n",
       "Dutch John         1\n",
       "Fort Morgan        1\n",
       "Old Station        1\n",
       "Spring Hope        1\n",
       "Killingworth       1\n",
       "Name: count, Length: 4501, dtype: int64"
      ]
     },
     "execution_count": 51,
     "metadata": {},
     "output_type": "execute_result"
    }
   ],
   "source": [
    "cities_by_accident = df.City.value_counts()\n",
    "cities_by_accident"
   ]
  },
  {
   "cell_type": "code",
   "execution_count": 53,
   "id": "a9bd3e9a",
   "metadata": {},
   "outputs": [
    {
     "data": {
      "text/plain": [
       "<Axes: xlabel='City'>"
      ]
     },
     "execution_count": 53,
     "metadata": {},
     "output_type": "execute_result"
    },
    {
     "data": {
      "image/png": "[encoded data removed]",
      "text/plain": [
       "<Figure size 640x480 with 1 Axes>"
      ]
     },
     "metadata": {},
     "output_type": "display_data"
    }
   ],
   "source": [
    "cities_by_accident[:30].plot(kind = 'bar')"
   ]
  },
  {
   "cell_type": "code",
   "execution_count": 54,
   "id": "b035c377",
   "metadata": {},
   "outputs": [
    {
     "name": "stderr",
     "output_type": "stream",
     "text": [
      "/Users/andrealoizidou/anaconda3/lib/python3.11/site-packages/seaborn/_oldcore.py:1119: FutureWarning: use_inf_as_na option is deprecated and will be removed in a future version. Convert inf values to NaN before operating instead.\n",
      "  with pd.option_context('mode.use_inf_as_na', True):\n"
     ]
    },
    {
     "data": {
      "text/plain": [
       "<Axes: xlabel='count', ylabel='Count'>"
      ]
     },
     "execution_count": 54,
     "metadata": {},
     "output_type": "execute_result"
    },
    {
     "data": {
      "image/png": "[encoded data removed]",
      "text/plain": [
       "<Figure size 640x480 with 1 Axes>"
      ]
     },
     "metadata": {},
     "output_type": "display_data"
    }
   ],
   "source": [
    "import seaborn as sns\n",
    "sns.set_style(\"darkgrid\")\n",
    "#plotting a hitogram with a logarithmic scale\n",
    "sns.histplot(cities_by_accident, log_scale=True)"
   ]
  },
  {
   "cell_type": "code",
   "execution_count": 60,
   "id": "37548761",
   "metadata": {},
   "outputs": [
    {
     "name": "stdout",
     "output_type": "stream",
     "text": [
      "City\n",
      "Houston    1099\n",
      "Name: count, dtype: int64\n"
     ]
    }
   ],
   "source": [
    "high_accident_cities = cities_by_accident[cities_by_accident >= 1000]\n",
    "print(high_accident_cities)"
   ]
  },
  {
   "cell_type": "code",
   "execution_count": 68,
   "id": "eb0a4d5d",
   "metadata": {},
   "outputs": [
    {
     "name": "stderr",
     "output_type": "stream",
     "text": [
      "/Users/andrealoizidou/anaconda3/lib/python3.11/site-packages/seaborn/_oldcore.py:1119: FutureWarning: use_inf_as_na option is deprecated and will be removed in a future version. Convert inf values to NaN before operating instead.\n",
      "  with pd.option_context('mode.use_inf_as_na', True):\n"
     ]
    },
    {
     "data": {
      "text/plain": [
       "<Axes: xlabel='count', ylabel='Count'>"
      ]
     },
     "execution_count": 68,
     "metadata": {},
     "output_type": "execute_result"
    },
    {
     "data": {
      "image/png": "[encoded data removed]",
      "text/plain": [
       "<Figure size 640x480 with 1 Axes>"
      ]
     },
     "metadata": {},
     "output_type": "display_data"
    }
   ],
   "source": [
    "sns.histplot(high_accident_cities, log_scale = True) "
   ]
  },
  {
   "cell_type": "code",
   "execution_count": 61,
   "id": "935c684d",
   "metadata": {},
   "outputs": [
    {
     "name": "stdout",
     "output_type": "stream",
     "text": [
      "City\n",
      "Los Angeles     971\n",
      "Charlotte       849\n",
      "Dallas          748\n",
      "Miami           731\n",
      "Austin          510\n",
      "               ... \n",
      "Dutch John        1\n",
      "Fort Morgan       1\n",
      "Old Station       1\n",
      "Spring Hope       1\n",
      "Killingworth      1\n",
      "Name: count, Length: 4500, dtype: int64\n"
     ]
    }
   ],
   "source": [
    "low_accident_cities = cities_by_accident[cities_by_accident < 1000]\n",
    "printb(low_accident_cities)"
   ]
  },
  {
   "cell_type": "code",
   "execution_count": 69,
   "id": "e14921b8",
   "metadata": {},
   "outputs": [
    {
     "name": "stderr",
     "output_type": "stream",
     "text": [
      "/Users/andrealoizidou/anaconda3/lib/python3.11/site-packages/seaborn/_oldcore.py:1119: FutureWarning: use_inf_as_na option is deprecated and will be removed in a future version. Convert inf values to NaN before operating instead.\n",
      "  with pd.option_context('mode.use_inf_as_na', True):\n"
     ]
    },
    {
     "data": {
      "text/plain": [
       "<Axes: xlabel='count', ylabel='Count'>"
      ]
     },
     "execution_count": 69,
     "metadata": {},
     "output_type": "execute_result"
    },
    {
     "data": {
      "image/png": "[encoded data removed]",
      "text/plain": [
       "<Figure size 640x480 with 1 Axes>"
      ]
     },
     "metadata": {},
     "output_type": "display_data"
    }
   ],
   "source": [
    "sns.histplot(low_accident_cities, log_scale = True)"
   ]
  },
  {
   "cell_type": "code",
   "execution_count": 65,
   "id": "b20e2fc8",
   "metadata": {},
   "outputs": [
    {
     "data": {
      "text/plain": [
       "0.04351145038167939"
      ]
     },
     "execution_count": 65,
     "metadata": {},
     "output_type": "execute_result"
    }
   ],
   "source": [
    "#percentage of high accident\n",
    "len(high_accident_cities)/len(df.City.unique())\n",
    "0.04351145038167939"
   ]
  },
  {
   "cell_type": "code",
   "execution_count": 70,
   "id": "f77dac31",
   "metadata": {},
   "outputs": [
    {
     "data": {
      "text/plain": [
       "0        2019-05-21 08:29:55\n",
       "1        2019-10-07 17:43:09\n",
       "2        2020-12-13 21:53:00\n",
       "3        2018-04-17 16:51:23\n",
       "4        2016-08-31 17:40:49\n",
       "                ...         \n",
       "42763    2020-12-30 19:36:37\n",
       "42764    2018-11-15 18:44:34\n",
       "42765    2016-12-03 03:55:19\n",
       "42766    2019-05-03 09:59:04\n",
       "42767    2017-01-12 07:43:03\n",
       "Name: Start_Time, Length: 42768, dtype: object"
      ]
     },
     "execution_count": 70,
     "metadata": {},
     "output_type": "execute_result"
    }
   ],
   "source": [
    "#start time\n",
    "df.Start_Time"
   ]
  },
  {
   "cell_type": "code",
   "execution_count": 75,
   "id": "7f1ddb7e",
   "metadata": {},
   "outputs": [
    {
     "data": {
      "text/plain": [
       "0         8\n",
       "1        17\n",
       "2        21\n",
       "3        16\n",
       "4        17\n",
       "         ..\n",
       "42763    19\n",
       "42764    18\n",
       "42765     3\n",
       "42766     9\n",
       "42767     7\n",
       "Name: Start_Time, Length: 42768, dtype: int32"
      ]
     },
     "execution_count": 75,
     "metadata": {},
     "output_type": "execute_result"
    }
   ],
   "source": [
    "#convert to timestamp \n",
    "df.Start_Time = pd.to_datetime(df.Start_Time, format='mixed')\n",
    "df.Start_Time.dt.hour\n"
   ]
  },
  {
   "cell_type": "code",
   "execution_count": 80,
   "id": "f8c4b126",
   "metadata": {},
   "outputs": [
    {
     "name": "stderr",
     "output_type": "stream",
     "text": [
      "/var/folders/jy/t41nttz13wl41xmsj7qr7rhm0000gn/T/ipykernel_49258/1705024698.py:1: UserWarning: \n",
      "\n",
      "`distplot` is a deprecated function and will be removed in seaborn v0.14.0.\n",
      "\n",
      "Please adapt your code to use either `displot` (a figure-level function with\n",
      "similar flexibility) or `histplot` (an axes-level function for histograms).\n",
      "\n",
      "For a guide to updating your code to use the new functions, please see\n",
      "https://gist.github.com/mwaskom/de44147ed2974457ad6372750bbe5751\n",
      "\n",
      "  sns.distplot(df.Start_Time.dt.hour, bins = 24, kde=False, norm_hist=True)\n"
     ]
    },
    {
     "data": {
      "text/plain": [
       "<Axes: xlabel='Start_Time'>"
      ]
     },
     "execution_count": 80,
     "metadata": {},
     "output_type": "execute_result"
    },
    {
     "data": {
      "image/png": "[encoded data removed]",
      "text/plain": [
       "<Figure size 640x480 with 1 Axes>"
      ]
     },
     "metadata": {},
     "output_type": "display_data"
    }
   ],
   "source": [
    "sns.distplot(df.Start_Time.dt.hour, bins = 24, kde=False, norm_hist=True)"
   ]
  },
  {
   "cell_type": "code",
   "execution_count": 81,
   "id": "406dda0c",
   "metadata": {},
   "outputs": [
    {
     "name": "stderr",
     "output_type": "stream",
     "text": [
      "/var/folders/jy/t41nttz13wl41xmsj7qr7rhm0000gn/T/ipykernel_49258/3176570514.py:4: UserWarning: \n",
      "\n",
      "`distplot` is a deprecated function and will be removed in seaborn v0.14.0.\n",
      "\n",
      "Please adapt your code to use either `displot` (a figure-level function with\n",
      "similar flexibility) or `histplot` (an axes-level function for histograms).\n",
      "\n",
      "For a guide to updating your code to use the new functions, please see\n",
      "https://gist.github.com/mwaskom/de44147ed2974457ad6372750bbe5751\n",
      "\n",
      "  sns.distplot(monday_start_time.dt.hour, bins = 24, kde=False, norm_hist=True)\n"
     ]
    },
    {
     "data": {
      "text/plain": [
       "<Axes: xlabel='Start_Time'>"
      ]
     },
     "execution_count": 81,
     "metadata": {},
     "output_type": "execute_result"
    },
    {
     "data": {
      "image/png": "[encoded data removed]",
      "text/plain": [
       "<Figure size 640x480 with 1 Axes>"
      ]
     },
     "metadata": {},
     "output_type": "display_data"
    }
   ],
   "source": [
    "#pull the day of the week from the timestamp format\n",
    "monday_start_time = df.Start_Time[df.Start_Time.dt.dayofweek == 0]\n",
    "#plot the distribution\n",
    "sns.distplot(monday_start_time.dt.hour, bins = 24, kde=False, norm_hist=True)"
   ]
  },
  {
   "cell_type": "code",
   "execution_count": 78,
   "id": "d61230ad",
   "metadata": {},
   "outputs": [
    {
     "name": "stderr",
     "output_type": "stream",
     "text": [
      "/var/folders/jy/t41nttz13wl41xmsj7qr7rhm0000gn/T/ipykernel_49258/1369835080.py:2: UserWarning: \n",
      "\n",
      "`distplot` is a deprecated function and will be removed in seaborn v0.14.0.\n",
      "\n",
      "Please adapt your code to use either `displot` (a figure-level function with\n",
      "similar flexibility) or `histplot` (an axes-level function for histograms).\n",
      "\n",
      "For a guide to updating your code to use the new functions, please see\n",
      "https://gist.github.com/mwaskom/de44147ed2974457ad6372750bbe5751\n",
      "\n",
      "  sns.distplot(sundays_start_time.dt.hour, bins = 24, kde=False, norm_hist=True)\n"
     ]
    },
    {
     "data": {
      "text/plain": [
       "<Axes: xlabel='Start_Time'>"
      ]
     },
     "execution_count": 78,
     "metadata": {},
     "output_type": "execute_result"
    },
    {
     "data": {
      "image/png": "[encoded data removed]",
      "text/plain": [
       "<Figure size 640x480 with 1 Axes>"
      ]
     },
     "metadata": {},
     "output_type": "display_data"
    }
   ],
   "source": [
    "sundays_start_time = df.Start_Time[df.Start_Time.dt.dayofweek == 6]\n",
    "sns.distplot(sundays_start_time.dt.hour, bins = 24, kde=False, norm_hist=True)"
   ]
  },
  {
   "cell_type": "code",
   "execution_count": 79,
   "id": "92eab099",
   "metadata": {},
   "outputs": [
    {
     "name": "stderr",
     "output_type": "stream",
     "text": [
      "/var/folders/jy/t41nttz13wl41xmsj7qr7rhm0000gn/T/ipykernel_49258/3457429895.py:2: UserWarning: \n",
      "\n",
      "`distplot` is a deprecated function and will be removed in seaborn v0.14.0.\n",
      "\n",
      "Please adapt your code to use either `displot` (a figure-level function with\n",
      "similar flexibility) or `histplot` (an axes-level function for histograms).\n",
      "\n",
      "For a guide to updating your code to use the new functions, please see\n",
      "https://gist.github.com/mwaskom/de44147ed2974457ad6372750bbe5751\n",
      "\n",
      "  sns.distplot(df.Start_Time.dt.month, bins = 12, kde=False, norm_hist=True)\n"
     ]
    },
    {
     "data": {
      "text/plain": [
       "<Axes: xlabel='Start_Time'>"
      ]
     },
     "execution_count": 79,
     "metadata": {},
     "output_type": "execute_result"
    },
    {
     "data": {
      "image/png": "[encoded data removed]",
      "text/plain": [
       "<Figure size 640x480 with 1 Axes>"
      ]
     },
     "metadata": {},
     "output_type": "display_data"
    }
   ],
   "source": [
    "#plot for months\n",
    "sns.distplot(df.Start_Time.dt.month, bins = 12, kde=False, norm_hist=True)\n"
   ]
  },
  {
   "cell_type": "code",
   "execution_count": null,
   "id": "4989b9ff",
   "metadata": {},
   "outputs": [],
   "source": []
  }
 ],
 "metadata": {
  "kernelspec": {
   "display_name": "Python 3 (ipykernel)",
   "language": "python",
   "name": "python3"
  },
  "language_info": {
   "codemirror_mode": {
    "name": "ipython",
    "version": 3
   },
   "file_extension": ".py",
   "mimetype": "text/x-python",
   "name": "python",
   "nbconvert_exporter": "python",
   "pygments_lexer": "ipython3",
   "version": "3.11.5"
  }
 },
 "nbformat": 4,
 "nbformat_minor": 5
}
